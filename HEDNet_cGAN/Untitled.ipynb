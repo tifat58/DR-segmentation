{
 "cells": [
  {
   "cell_type": "code",
   "execution_count": 17,
   "id": "a8cfd957",
   "metadata": {},
   "outputs": [],
   "source": [
    "from hednet import HNNNet\n",
    "from torchsummary import summary\n",
    "import os\n",
    "import torch\n",
    "os.environ[\"CUDA_VISIBLE_DEVICES\"] = \"1\"\n",
    "device = torch.device(\"cuda\" if torch.cuda.is_available() else \"cpu\")"
   ]
  },
  {
   "cell_type": "code",
   "execution_count": 19,
   "id": "be0054cf",
   "metadata": {},
   "outputs": [],
   "source": [
    "model = HNNNet(pretrained=True, class_number=2).to(device)\n",
    "#summary(model, (3, 512, 512))"
   ]
  }
 ],
 "metadata": {
  "kernelspec": {
   "display_name": "Python 3",
   "language": "python",
   "name": "python3"
  },
  "language_info": {
   "codemirror_mode": {
    "name": "ipython",
    "version": 3
   },
   "file_extension": ".py",
   "mimetype": "text/x-python",
   "name": "python",
   "nbconvert_exporter": "python",
   "pygments_lexer": "ipython3",
   "version": "3.6.9"
  }
 },
 "nbformat": 4,
 "nbformat_minor": 5
}
